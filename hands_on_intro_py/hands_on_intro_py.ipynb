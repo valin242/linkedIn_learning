{
 "cells": [
  {
   "cell_type": "markdown",
   "metadata": {},
   "source": [
    "# Diving into a Python Project"
   ]
  },
  {
   "cell_type": "code",
   "execution_count": 4,
   "metadata": {},
   "outputs": [
    {
     "name": "stdout",
     "output_type": "stream",
     "text": [
      "running indented\n",
      "Hello\n"
     ]
    }
   ],
   "source": [
    "# Scope and Indentation\n",
    "RUN_INDENTED = True\n",
    "\n",
    "message = 'running unindented'\n",
    "\n",
    "if RUN_INDENTED:\n",
    "    message = \"running indented\"\n",
    "\n",
    "print (message)\n",
    "\n",
    "def my_function():\n",
    "    greet = \"Hello\"\n",
    "    return greet\n",
    "\n",
    "print(my_function())"
   ]
  },
  {
   "cell_type": "code",
   "execution_count": 8,
   "metadata": {},
   "outputs": [
    {
     "name": "stdout",
     "output_type": "stream",
     "text": [
      "Hello John Hello John\n",
      "HELLO JOHN\n",
      "hello john\n",
      "Hello Paul\n"
     ]
    }
   ],
   "source": [
    "# Fancy string work\n",
    "greet = \"Hello World\"\n",
    "extened_grt = \"Hello World,\" + \"this is a long string\"\n",
    "\n",
    "name = \"John\"\n",
    "\n",
    "intrupution = f\"Hello {name}\"\n",
    "\n",
    "greet_format = \"Hello {}\"\n",
    "\n",
    "formatted = greet_format.format(name)\n",
    "\n",
    "print(intrupution, formatted)\n",
    "\n",
    "print(formatted.upper())\n",
    "print(formatted.lower())\n",
    "print(formatted.replace(\"John\", \"Paul\")) # replacing within a sring"
   ]
  },
  {
   "cell_type": "code",
   "execution_count": 11,
   "metadata": {},
   "outputs": [
    {
     "name": "stdout",
     "output_type": "stream",
     "text": [
      "86\n",
      "20\n",
      "23\n",
      "['John', 'Paul']\n",
      "['George', 'Ringo']\n",
      "['Ringo', 'George', 'Paul', 'John']\n"
     ]
    }
   ],
   "source": [
    "# Getting what you need from lists with slicees\n",
    "NAMES = ['John', 'Paul', 'George', 'Ringo']\n",
    "AGES = [20, 21, 22, 23]\n",
    "\n",
    "JOHN = NAMES[0]\n",
    "PAUL = NAMES[1]\n",
    " \n",
    "JOHN_PAUL = NAMES[:2]\n",
    "GEORGE_RINGO = NAMES[2:]\n",
    "REVERSE = NAMES[::-1]\n",
    "EVERY_OTHER = NAMES[::2]\n",
    "\n",
    "print(sum(AGES))\n",
    "print(min(AGES))\n",
    "print(max(AGES))\n",
    "\n",
    "print(JOHN_PAUL)\n",
    "print(GEORGE_RINGO)\n",
    "print(REVERSE)"
   ]
  },
  {
   "cell_type": "code",
   "execution_count": 14,
   "metadata": {},
   "outputs": [
    {
     "name": "stdout",
     "output_type": "stream",
     "text": [
      "John 20\n",
      "Paul 21\n",
      "George 22\n",
      "Ringo 23\n",
      "--------------------------------------------\n",
      "John\n",
      "Paul\n",
      "George\n",
      "Ringo\n",
      "--------------------------------------------\n",
      "John 20\n",
      "Paul 21\n",
      "George 22\n",
      "Ringo 23\n",
      "--------------------------------------------\n",
      "Ringo\n",
      "George\n",
      "Paul\n",
      "John\n",
      "--------------------------------------------\n",
      "0\n",
      "1\n",
      "2\n",
      "3\n",
      "4\n",
      "--------------------------------------------\n",
      "0 John\n",
      "1 Paul\n",
      "2 George\n",
      "3 Ringo\n"
     ]
    }
   ],
   "source": [
    "# Looping and iteration\n",
    "\n",
    "i = 0\n",
    "while i < len(NAMES):\n",
    "    print(NAMES[i], AGES[i])\n",
    "    i += 1\n",
    "print(\"--------------------------------------------\")\n",
    "\n",
    "for name in NAMES:\n",
    "    print(name)\n",
    "print(\"--------------------------------------------\")\n",
    "\n",
    "for name, age in zip(NAMES, AGES): # zip these 2 list together without building new list in memory\n",
    "    print(f\"{name} {age}\")\n",
    "print(\"--------------------------------------------\")\n",
    "\n",
    "for name in reversed(NAMES):\n",
    "    print(name)\n",
    "print(\"--------------------------------------------\")\n",
    "\n",
    "for i in range(5):\n",
    "    print(i)\n",
    "print(\"--------------------------------------------\")\n",
    "\n",
    "# enumerate\n",
    "for i, name in enumerate(NAMES): # handy to find out where you are in the iteration (I also used it to print the index)\n",
    "    print(f\"{i} {name}\")"
   ]
  },
  {
   "cell_type": "code",
   "execution_count": 16,
   "metadata": {},
   "outputs": [
    {
     "name": "stdout",
     "output_type": "stream",
     "text": [
      "Development environment\n"
     ]
    }
   ],
   "source": [
    "# Logic if/elif/else\n",
    "\n",
    "import os\n",
    "\n",
    "DEVELOPMENT = \"development\"\n",
    "PRODUCTION = \"production\"\n",
    "STAGING = \"staging\"\n",
    "CODE_SPACE = \"cose_space\"\n",
    "LOCAL = \"local\"\n",
    "\n",
    "current_env = os.environ.get(\"ENV_NAME\", DEVELOPMENT)\n",
    "\n",
    "if current_env == DEVELOPMENT:\n",
    "    print(\"Development environment\")\n",
    "elif current_env == PRODUCTION:\n",
    "    print(\"Production environment\")\n",
    "elif current_env == STAGING:\n",
    "    print(\"Staging environment\")\n",
    "elif current_env in [CODE_SPACE, LOCAL]: # can check a collection of things\n",
    "    print(\"COdespace or local environment\")\n",
    "else: \n",
    "    print(\"Unknown environment\")"
   ]
  },
  {
   "cell_type": "code",
   "execution_count": 20,
   "metadata": {},
   "outputs": [
    {
     "name": "stdout",
     "output_type": "stream",
     "text": [
      "{'birthplace': 'Germany',\n",
      " 'born': '1879-03-14',\n",
      " 'category': 'physics',\n",
      " 'died': '1955-04-18',\n",
      " 'motivation': 'for his services to Theoretical Physics, and especially for '\n",
      "               'his discovery of the law of the photoelectric effect',\n",
      " 'name': 'Albert',\n",
      " 'surname': 'Einstein',\n",
      " 'year': '1921'}\n",
      "===========\n",
      "age 42\n"
     ]
    }
   ],
   "source": [
    "# Reading a CSV file\n",
    "import csv\n",
    "from pprint import pprint\n",
    "from datetime import datetime\n",
    "\n",
    "EINSTEIN = {\n",
    "    'birthplace': 'Germany',\n",
    "    'name': 'Albert',\n",
    "    'surname': 'Einstein',\n",
    "    'born': '1879-03-14',\n",
    "    'category': 'physics',\n",
    "    'motivation': 'for his services to Theoretical Physics...',\n",
    "}\n",
    "\n",
    "with open(\"laureates.csv\", \"r\") as f: # r is for read mode;\n",
    "    reader = csv.DictReader(f)\n",
    "    laureates = list(reader)\n",
    "\n",
    "for laureate in laureates:\n",
    "    if laureate[\"surname\"] == \"Einstein\":\n",
    "        pprint(laureate)\n",
    "        print(\"===========\")\n",
    "        year_date = datetime.strptime(laureate[\"year\"], \"%Y\")\n",
    "        born_date = datetime.strptime(laureate[\"born\"], \"%Y-%m-%d\")\n",
    "        print(\"age\", year_date.year - born_date.year) # can usue arythmetic operators\n",
    "        break"
   ]
  },
  {
   "cell_type": "code",
   "execution_count": 23,
   "metadata": {},
   "outputs": [
    {
     "name": "stdout",
     "output_type": "stream",
     "text": [
      "{\"birthplace\": \"Germany\", \"name\": \"Albert\", \"surname\": \"Einstein\", \"born\": \"1879-03-14\", \"category\": \"physics\", \"motivation\": \"for his services to Theoretical Physics...\"}\n",
      "{'birthplace': 'Germany', 'name': 'Albert', 'surname': 'Einstein', 'born': '1879-03-14', 'category': 'physics', 'motivation': 'for his services to Theoretical Physics...'}\n"
     ]
    }
   ],
   "source": [
    "# Outputting JSON\n",
    "\n",
    "import json\n",
    "\n",
    "einstein_json = json.dumps(EINSTEIN)\n",
    "back_to_dict = json.loads(einstein_json)\n",
    "print(einstein_json)\n",
    "print(back_to_dict)\n",
    "\n",
    "with open(\"laureates.csv\", \"r\") as f:\n",
    "    reader = csv.DictReader(f)\n",
    "    laureates = list(reader)\n",
    "\n",
    "with open(\"laureates.json\", \"w\") as f: # writing to this new json file\n",
    "    json.dump(laureates, f, indent=2) # this wil automatically create the new json file  "
   ]
  },
  {
   "cell_type": "code",
   "execution_count": 25,
   "metadata": {},
   "outputs": [],
   "source": [
    "# Challenge and Solution: Filtering output\n",
    "\n",
    "laureates_beginning_with_a = []\n",
    "\n",
    "for laureate in laureates:\n",
    "    if laureate['name'][0] == \"A\": # check that the key 'name' name that starts with 'A'\n",
    "        laureates_beginning_with_a.append(laureate)\n",
    "\n",
    "with open(\"laureates.json\", \"w\") as f:\n",
    "    json.dump(laureates_beginning_with_a, f, indent=2)"
   ]
  },
  {
   "cell_type": "code",
   "execution_count": 28,
   "metadata": {},
   "outputs": [
    {
     "name": "stdout",
     "output_type": "stream",
     "text": [
      "2022: 333287557 =================================\n",
      "2021: 332031554 =================================\n",
      "2020: 331511512 =================================\n",
      "2019: 328329953 ================================\n",
      "2018: 326838199 ================================\n",
      "2017: 325122128 ================================\n",
      "2016: 323071755 ================================\n",
      "2015: 320738994 ================================\n",
      "2014: 318386329 ===============================\n",
      "2013: 316059947 ===============================\n",
      "2012: 313877662 ===============================\n",
      "2011: 311583481 ===============================\n",
      "2010: 309327143 ==============================\n",
      "2009: 306771529 ==============================\n",
      "2008: 304093966 ==============================\n",
      "2007: 301231207 ==============================\n",
      "2006: 298379912 =============================\n",
      "2005: 295516599 =============================\n",
      "2004: 292805298 =============================\n",
      "2003: 290107933 =============================\n"
     ]
    }
   ],
   "source": [
    "#  Loading a JSON dataset\n",
    "\n",
    "import requests\n",
    "\n",
    "response = requests.get(\n",
    "    \"http://api.worldbank.org/v2/countries/USA/indicators/SP.POP.TOTL?per_page=5000&format=json\"\n",
    ")\n",
    "\n",
    "last_twenty_years = response.json()[1][:20]\n",
    "\n",
    "for year in last_twenty_years:\n",
    "    display_width = year[\"value\"] // 10_000_000 # case use _ for long numbers\n",
    "    print(f'{year[\"date\"]}: {year[\"value\"]}', '=' * display_width)\n"
   ]
  },
  {
   "cell_type": "code",
   "execution_count": 32,
   "metadata": {},
   "outputs": [
    {
     "name": "stdout",
     "output_type": "stream",
     "text": [
      " * Serving Flask app '__main__'\n",
      " * Debug mode: on\n"
     ]
    },
    {
     "name": "stderr",
     "output_type": "stream",
     "text": [
      "WARNING: This is a development server. Do not use it in a production deployment. Use a production WSGI server instead.\n",
      " * Running on http://127.0.0.1:5000\n",
      "Press CTRL+C to quit\n",
      " * Restarting with stat\n"
     ]
    },
    {
     "ename": "SystemExit",
     "evalue": "1",
     "output_type": "error",
     "traceback": [
      "An exception has occurred, use %tb to see the full traceback.\n",
      "\u001b[1;31mSystemExit\u001b[0m\u001b[1;31m:\u001b[0m 1\n"
     ]
    }
   ],
   "source": [
    "# Extending a small web server\n",
    "\n",
    "from flask import Flask\n",
    "\n",
    "app = Flask(__name__) # instantiate a flask object; dunder score\n",
    "\n",
    "# decorators to turn a function into a route\n",
    "@app.route(\"/\") # the base route is /\n",
    "def hello(): # defining a route/function\n",
    "    return \"Hello, World!\"\n",
    "\n",
    "# to run a flask application\n",
    "app.run(debug=True)"
   ]
  }
 ],
 "metadata": {
  "kernelspec": {
   "display_name": "Python 3",
   "language": "python",
   "name": "python3"
  },
  "language_info": {
   "codemirror_mode": {
    "name": "ipython",
    "version": 3
   },
   "file_extension": ".py",
   "mimetype": "text/x-python",
   "name": "python",
   "nbconvert_exporter": "python",
   "pygments_lexer": "ipython3",
   "version": "3.10.3"
  }
 },
 "nbformat": 4,
 "nbformat_minor": 2
}
