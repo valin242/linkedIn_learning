{
 "cells": [
  {
   "cell_type": "markdown",
   "metadata": {},
   "source": [
    "# Valinteshley Pierre\n",
    "## Machine Learning with Scikit-Learn\n",
    "### Based off of linkedIn Learning course: https://www.linkedin.com/learning/machine-learning-with-scikit-learn/what-is-supervised-learning?autoSkip=true&resume=false&u=50815393"
   ]
  }
 ],
 "metadata": {
  "language_info": {
   "name": "python"
  }
 },
 "nbformat": 4,
 "nbformat_minor": 2
}
