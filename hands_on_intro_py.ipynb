{
 "cells": [
  {
   "cell_type": "markdown",
   "metadata": {},
   "source": [
    "# Diving into a Python Project"
   ]
  },
  {
   "cell_type": "code",
   "execution_count": 4,
   "metadata": {},
   "outputs": [
    {
     "name": "stdout",
     "output_type": "stream",
     "text": [
      "running indented\n",
      "Hello\n"
     ]
    }
   ],
   "source": [
    "# Scope and Indentation\n",
    "RUN_INDENTED = True\n",
    "\n",
    "message = 'running unindented'\n",
    "\n",
    "if RUN_INDENTED:\n",
    "    message = \"running indented\"\n",
    "\n",
    "print (message)\n",
    "\n",
    "def my_function():\n",
    "    greet = \"Hello\"\n",
    "    return greet\n",
    "\n",
    "print(my_function())"
   ]
  },
  {
   "cell_type": "code",
   "execution_count": 8,
   "metadata": {},
   "outputs": [
    {
     "name": "stdout",
     "output_type": "stream",
     "text": [
      "Hello John Hello John\n",
      "HELLO JOHN\n",
      "hello john\n",
      "Hello Paul\n"
     ]
    }
   ],
   "source": [
    "# Fancy string work\n",
    "greet = \"Hello World\"\n",
    "extened_grt = \"Hello World,\" + \"this is a long string\"\n",
    "\n",
    "name = \"John\"\n",
    "\n",
    "intrupution = f\"Hello {name}\"\n",
    "\n",
    "greet_format = \"Hello {}\"\n",
    "\n",
    "formatted = greet_format.format(name)\n",
    "\n",
    "print(intrupution, formatted)\n",
    "\n",
    "print(formatted.upper())\n",
    "print(formatted.lower())\n",
    "print(formatted.replace(\"John\", \"Paul\")) # replacing within a sring"
   ]
  },
  {
   "cell_type": "code",
   "execution_count": 11,
   "metadata": {},
   "outputs": [
    {
     "name": "stdout",
     "output_type": "stream",
     "text": [
      "86\n",
      "20\n",
      "23\n",
      "['John', 'Paul']\n",
      "['George', 'Ringo']\n",
      "['Ringo', 'George', 'Paul', 'John']\n"
     ]
    }
   ],
   "source": [
    "# Getting what you need from lists with slicees\n",
    "NAMES = ['John', 'Paul', 'George', 'Ringo']\n",
    "AGES = [20, 21, 22, 23]\n",
    "\n",
    "JOHN = NAMES[0]\n",
    "PAUL = NAMES[1]\n",
    " \n",
    "JOHN_PAUL = NAMES[:2]\n",
    "GEORGE_RINGO = NAMES[2:]\n",
    "REVERSE = NAMES[::-1]\n",
    "EVERY_OTHER = NAMES[::2]\n",
    "\n",
    "print(sum(AGES))\n",
    "print(min(AGES))\n",
    "print(max(AGES))\n",
    "\n",
    "print(JOHN_PAUL)\n",
    "print(GEORGE_RINGO)\n",
    "print(REVERSE)"
   ]
  },
  {
   "cell_type": "code",
   "execution_count": 14,
   "metadata": {},
   "outputs": [
    {
     "name": "stdout",
     "output_type": "stream",
     "text": [
      "John 20\n",
      "Paul 21\n",
      "George 22\n",
      "Ringo 23\n",
      "--------------------------------------------\n",
      "John\n",
      "Paul\n",
      "George\n",
      "Ringo\n",
      "--------------------------------------------\n",
      "John 20\n",
      "Paul 21\n",
      "George 22\n",
      "Ringo 23\n",
      "--------------------------------------------\n",
      "Ringo\n",
      "George\n",
      "Paul\n",
      "John\n",
      "--------------------------------------------\n",
      "0\n",
      "1\n",
      "2\n",
      "3\n",
      "4\n",
      "--------------------------------------------\n",
      "0 John\n",
      "1 Paul\n",
      "2 George\n",
      "3 Ringo\n"
     ]
    }
   ],
   "source": [
    "# Looping and iteration\n",
    "\n",
    "i = 0\n",
    "while i < len(NAMES):\n",
    "    print(NAMES[i], AGES[i])\n",
    "    i += 1\n",
    "print(\"--------------------------------------------\")\n",
    "\n",
    "for name in NAMES:\n",
    "    print(name)\n",
    "print(\"--------------------------------------------\")\n",
    "\n",
    "for name, age in zip(NAMES, AGES): # zip these 2 list together without building new list in memory\n",
    "    print(f\"{name} {age}\")\n",
    "print(\"--------------------------------------------\")\n",
    "\n",
    "for name in reversed(NAMES):\n",
    "    print(name)\n",
    "print(\"--------------------------------------------\")\n",
    "\n",
    "for i in range(5):\n",
    "    print(i)\n",
    "print(\"--------------------------------------------\")\n",
    "\n",
    "# enumerate\n",
    "for i, name in enumerate(NAMES): # handy to find out where you are in the iteration (I also used it to print the index)\n",
    "    print(f\"{i} {name}\")"
   ]
  },
  {
   "cell_type": "code",
   "execution_count": 16,
   "metadata": {},
   "outputs": [
    {
     "name": "stdout",
     "output_type": "stream",
     "text": [
      "Development environment\n"
     ]
    }
   ],
   "source": [
    "# Logic if/elif/else\n",
    "\n",
    "import os\n",
    "\n",
    "DEVELOPMENT = \"development\"\n",
    "PRODUCTION = \"production\"\n",
    "STAGING = \"staging\"\n",
    "CODE_SPACE = \"cose_space\"\n",
    "LOCAL = \"local\"\n",
    "\n",
    "current_env = os.environ.get(\"ENV_NAME\", DEVELOPMENT)\n",
    "\n",
    "if current_env == DEVELOPMENT:\n",
    "    print(\"Development environment\")\n",
    "elif current_env == PRODUCTION:\n",
    "    print(\"Production environment\")\n",
    "elif current_env == STAGING:\n",
    "    print(\"Staging environment\")\n",
    "elif current_env in [CODE_SPACE, LOCAL]: # can check a collection of things\n",
    "    print(\"COdespace or local environment\")\n",
    "else: \n",
    "    print(\"Unknown environment\")"
   ]
  },
  {
   "cell_type": "code",
   "execution_count": 17,
   "metadata": {},
   "outputs": [],
   "source": [
    "# Reading a CSV file\n",
    "import csv\n",
    "from pprint import pprint\n",
    "\n",
    "EINSTEIN = {\n",
    "    'birthplace': 'Germany',\n",
    "    'name': 'Albert',\n",
    "    'surname': 'Einstein',\n",
    "    'born': '1879-03-14',\n",
    "    'category': 'physics',\n",
    "    'motivation': 'for his services to Theoretical Physics...',\n",
    "}\n",
    "\n",
    "with open(\"laureates.csv\", \"r\") as f: # r is for read mode;\n",
    "    reader = csv.DictReader(f)\n",
    "    laureates = list(reader)\n",
    "\n",
    "for laureate in laureates:\n",
    "    if laureate[\"surname\"] == \"Einstein\":\n",
    "        pprint(laureate)\n",
    "        break"
   ]
  }
 ],
 "metadata": {
  "kernelspec": {
   "display_name": "Python 3",
   "language": "python",
   "name": "python3"
  },
  "language_info": {
   "codemirror_mode": {
    "name": "ipython",
    "version": 3
   },
   "file_extension": ".py",
   "mimetype": "text/x-python",
   "name": "python",
   "nbconvert_exporter": "python",
   "pygments_lexer": "ipython3",
   "version": "3.10.3"
  }
 },
 "nbformat": 4,
 "nbformat_minor": 2
}
