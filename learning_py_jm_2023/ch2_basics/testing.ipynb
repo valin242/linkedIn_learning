{
 "cells": [
  {
   "cell_type": "code",
   "execution_count": 34,
   "metadata": {},
   "outputs": [
    {
     "data": {
      "text/plain": [
       "3"
      ]
     },
     "execution_count": 34,
     "metadata": {},
     "output_type": "execute_result"
    }
   ],
   "source": [
    "def is_palindrome(teststr):\n",
    "    punc = '''!()- []{};:'\"\\,<>./?@#$%^&*_~'''\n",
    "    res=\"\"\n",
    "    \n",
    "    for ele in teststr:\n",
    "        if ele not in punc:\n",
    "            res+=ele\n",
    "    \n",
    "    rev_word = res[::-1]\n",
    "\n",
    "    if res.lower() == rev_word.lower():\n",
    "        val = True\n",
    "    else:\n",
    "        val = False\n",
    "    \n",
    "    return val\n",
    "    \n",
    "total = 0\n",
    "test_words = [\"Hello World!\",\"Radar\",\"Mama?\",\"Madam, I'm Adam.\",\n",
    "    \"Race car!\"]\n",
    "for word in test_words:\n",
    "    total += is_palindrome(word)\n",
    "\n",
    "total\n",
    "\n",
    "## alternatively python has an 'isalnum' function so teststr.isalnum"
   ]
  },
  {
   "cell_type": "code",
   "execution_count": 13,
   "metadata": {},
   "outputs": [
    {
     "data": {
      "text/plain": [
       "'radar'"
      ]
     },
     "execution_count": 13,
     "metadata": {},
     "output_type": "execute_result"
    }
   ],
   "source": [
    "rev = \"Radar\"\n",
    "rev[::-1]"
   ]
  }
 ],
 "metadata": {
  "kernelspec": {
   "display_name": "Python 3",
   "language": "python",
   "name": "python3"
  },
  "language_info": {
   "codemirror_mode": {
    "name": "ipython",
    "version": 3
   },
   "file_extension": ".py",
   "mimetype": "text/x-python",
   "name": "python",
   "nbconvert_exporter": "python",
   "pygments_lexer": "ipython3",
   "version": "3.10.3"
  }
 },
 "nbformat": 4,
 "nbformat_minor": 2
}
